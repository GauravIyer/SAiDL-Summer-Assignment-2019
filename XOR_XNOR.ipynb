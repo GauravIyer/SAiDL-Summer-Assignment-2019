{
 "cells": [
  {
   "cell_type": "code",
   "execution_count": 22,
   "metadata": {},
   "outputs": [
    {
     "name": "stdout",
     "output_type": "stream",
     "text": [
      "First binary number: 01\n",
      "Second binary number: 11\n",
      "0 for XOR, 1 for XNOR: 1\n"
     ]
    }
   ],
   "source": [
    "bin1=input(\"First binary number: \")\n",
    "bin2=input(\"Second binary number: \")\n",
    "ch=input(\"0 for XOR, 1 for XNOR: \")"
   ]
  },
  {
   "cell_type": "code",
   "execution_count": 23,
   "metadata": {},
   "outputs": [],
   "source": [
    "bin11,bin21=bin1[0],bin1[1]\n",
    "bin12,bin22=bin2[0],bin2[1]\n",
    "bin11=int(bin11)\n",
    "bin12=int(bin12)\n",
    "bin21=int(bin21)\n",
    "bin22=int(bin22)\n",
    "ch=int(ch)"
   ]
  },
  {
   "cell_type": "code",
   "execution_count": 24,
   "metadata": {},
   "outputs": [],
   "source": [
    "import numpy as np"
   ]
  },
  {
   "cell_type": "code",
   "execution_count": 25,
   "metadata": {},
   "outputs": [],
   "source": [
    "def sigmoid(x):\n",
    "    return 1/(1+np.exp(-x))"
   ]
  },
  {
   "cell_type": "code",
   "execution_count": 26,
   "metadata": {},
   "outputs": [],
   "source": [
    "def sigmoid_der(x):\n",
    "    return x*(1-x)"
   ]
  },
  {
   "cell_type": "code",
   "execution_count": 27,
   "metadata": {},
   "outputs": [],
   "source": [
    "def swap(x):\n",
    "    if(x==0):\n",
    "        return 1\n",
    "    elif(x==1):\n",
    "        return 0"
   ]
  },
  {
   "cell_type": "code",
   "execution_count": 28,
   "metadata": {},
   "outputs": [],
   "source": [
    "trainset=np.array([[0,0],[0,1],[1,0],[1,1]])\n",
    "labels=np.array([[0],[1],[1],[0]])"
   ]
  },
  {
   "cell_type": "code",
   "execution_count": 51,
   "metadata": {},
   "outputs": [],
   "source": [
    "epochs=200000\n",
    "learning_rate=0.1\n",
    "i,h,o=2,2,1"
   ]
  },
  {
   "cell_type": "code",
   "execution_count": 56,
   "metadata": {},
   "outputs": [],
   "source": [
    "h_weights=np.random.randn(i,h)*0.1\n",
    "h_bias=np.random.randn(1,h)*0.1\n",
    "o_weights=np.random.randn(h,o)*0.1\n",
    "o_bias=np.random.randn(1,o)*0.1"
   ]
  },
  {
   "cell_type": "code",
   "execution_count": 57,
   "metadata": {},
   "outputs": [
    {
     "name": "stdout",
     "output_type": "stream",
     "text": [
      "[[0.00935237]\n",
      " [0.99113772]\n",
      " [0.98928738]\n",
      " [0.0083692 ]]\n"
     ]
    }
   ],
   "source": [
    "for epoch in range(epochs):\n",
    "    z_h=sigmoid(np.dot(trainset,h_weights)+h_bias)\n",
    "    z_o=sigmoid(np.dot(z_h,o_weights)+o_bias)\n",
    "    o_error=labels-z_o\n",
    "    dz_o=o_error*sigmoid_der(z_o)\n",
    "    h_error=dz_o.dot(o_weights.T)\n",
    "    dz_h=h_error*sigmoid_der(z_h)\n",
    "    \n",
    "    o_weights+=z_h.T.dot(dz_o)*learning_rate\n",
    "    o_bias+=np.sum(dz_o,axis=0,keepdims=True)*learning_rate\n",
    "    h_weights+=trainset.T.dot(dz_h)*learning_rate\n",
    "    h_bias+=np.sum(dz_h,axis=0,keepdims=True)*learning_rate\n",
    "    \n",
    "print(z_o)"
   ]
  },
  {
   "cell_type": "code",
   "execution_count": 32,
   "metadata": {},
   "outputs": [
    {
     "name": "stdout",
     "output_type": "stream",
     "text": [
      "1\n"
     ]
    }
   ],
   "source": [
    "comb1=np.array([bin11,bin12])\n",
    "h=sigmoid(np.matmul(comb1,h_weights)+h_bias)\n",
    "out1=sigmoid(np.matmul(h,o_weights)+o_bias)\n",
    "out1=int(np.rint(out1))\n",
    "print(out1)"
   ]
  },
  {
   "cell_type": "code",
   "execution_count": 33,
   "metadata": {},
   "outputs": [
    {
     "name": "stdout",
     "output_type": "stream",
     "text": [
      "0\n"
     ]
    }
   ],
   "source": [
    "comb2=np.array([bin21,bin22])\n",
    "h=sigmoid(np.matmul(comb2,h_weights)+h_bias)\n",
    "out2=sigmoid(np.matmul(h,o_weights)+o_bias)\n",
    "out2=int(np.rint(out2))\n",
    "print(out2)"
   ]
  },
  {
   "cell_type": "code",
   "execution_count": 34,
   "metadata": {},
   "outputs": [],
   "source": [
    "resxor=int(str(out1)+str(out2))\n",
    "resxnor=int(str(swap(out1))+str(swap(out2)))"
   ]
  },
  {
   "cell_type": "code",
   "execution_count": 35,
   "metadata": {},
   "outputs": [
    {
     "name": "stdout",
     "output_type": "stream",
     "text": [
      "10\n",
      "1\n"
     ]
    }
   ],
   "source": [
    "if(ch==0):\n",
    "    print(resxor)\n",
    "elif(ch==1):\n",
    "    print(resxnor)"
   ]
  },
  {
   "cell_type": "code",
   "execution_count": null,
   "metadata": {},
   "outputs": [],
   "source": []
  }
 ],
 "metadata": {
  "kernelspec": {
   "display_name": "Python 3",
   "language": "python",
   "name": "python3"
  },
  "language_info": {
   "codemirror_mode": {
    "name": "ipython",
    "version": 3
   },
   "file_extension": ".py",
   "mimetype": "text/x-python",
   "name": "python",
   "nbconvert_exporter": "python",
   "pygments_lexer": "ipython3",
   "version": "3.7.3"
  }
 },
 "nbformat": 4,
 "nbformat_minor": 2
}
